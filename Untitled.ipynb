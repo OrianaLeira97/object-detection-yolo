{
 "cells": [
  {
   "cell_type": "code",
   "execution_count": 1,
   "id": "f45b566d",
   "metadata": {
    "scrolled": true
   },
   "outputs": [
    {
     "name": "stdout",
     "output_type": "stream",
     "text": [
      "Cloning into 'yolov5'...\n",
      "remote: Enumerating objects: 9310, done.\u001b[K\n",
      "remote: Counting objects: 100% (50/50), done.\u001b[K\n",
      "remote: Compressing objects: 100% (29/29), done.\u001b[K\n",
      "remote: Total 9310 (delta 26), reused 39 (delta 21), pack-reused 9260\u001b[K\n",
      "Receiving objects: 100% (9310/9310), 9.63 MiB | 10.74 MiB/s, done.\n",
      "Resolving deltas: 100% (6469/6469), done.\n"
     ]
    }
   ],
   "source": [
    "!git clone https://github.com/ultralytics/yolov5 "
   ]
  },
  {
   "cell_type": "code",
   "execution_count": 4,
   "id": "5946d1bc",
   "metadata": {},
   "outputs": [
    {
     "name": "stdout",
     "output_type": "stream",
     "text": [
      "  % Total    % Received % Xferd  Average Speed   Time    Time     Time  Current\n",
      "                                 Dload  Upload   Total   Spent    Left  Speed\n",
      "  0     0    0     0    0     0      0      0 --:--:-- --:--:-- --:--:--     0curl: (6) Could not resolve host: “https\n",
      "Archive:  roboflow.zip\n",
      "  End-of-central-directory signature not found.  Either this file is not\n",
      "  a zipfile, or it constitutes one disk of a multi-part archive.  In the\n",
      "  latter case the central directory and zipfile comment will be found on\n",
      "  the last disk(s) of this archive.\n",
      "unzip:  cannot find zipfile directory in one of roboflow.zip or\n",
      "        roboflow.zip.zip, and cannot find roboflow.zip.ZIP, period.\n"
     ]
    }
   ],
   "source": [
    "!curl -L “https://public.roboflow.com/ds/rf_OUaoBJvtpIOmjkEoPUnRwtnJVC03 > roboflow.zip; unzip roboflow.zip; rm roboflow.zip"
   ]
  }
 ],
 "metadata": {
  "kernelspec": {
   "display_name": "Python 3",
   "language": "python",
   "name": "python3"
  },
  "language_info": {
   "codemirror_mode": {
    "name": "ipython",
    "version": 3
   },
   "file_extension": ".py",
   "mimetype": "text/x-python",
   "name": "python",
   "nbconvert_exporter": "python",
   "pygments_lexer": "ipython3",
   "version": "3.8.8"
  }
 },
 "nbformat": 4,
 "nbformat_minor": 5
}
